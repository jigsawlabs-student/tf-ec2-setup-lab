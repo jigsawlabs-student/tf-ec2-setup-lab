{
 "cells": [
  {
   "cell_type": "markdown",
   "id": "876da35c-9842-4bd0-b474-d6189590813d",
   "metadata": {},
   "source": [
    "# EC2 Setup - Terraform Fullstack"
   ]
  },
  {
   "cell_type": "markdown",
   "id": "6dade9f7-dffc-4716-9b89-e43f4f05f8d2",
   "metadata": {},
   "source": [
    "### Introduction"
   ]
  },
  {
   "cell_type": "markdown",
   "id": "8e040d31-650a-4887-8064-be1aa5173074",
   "metadata": {},
   "source": [
    "Ok, so in the previous lessons, we have prepared our codebase for Docker, and Dockerized our api.  We also wrote terraform scripts that would setup our rds instance and give it the appropriate permissions to access our ec2 instance.\n",
    "\n",
    "But there is still more to do.  Namely we'll need to do provision our ec2 machine to automatically install docker, start docker, and pull down our images and boot them up properly.  \n",
    "\n",
    "Let's get started."
   ]
  },
  {
   "cell_type": "markdown",
   "id": "6858e73f-2030-4208-95c7-3b115e9e5410",
   "metadata": {},
   "source": [
    "### Setting Up Our EC2 Machine"
   ]
  },
  {
   "cell_type": "markdown",
   "id": "4aec4173-1ab1-43d7-855a-9a52d99fa3fa",
   "metadata": {
    "tags": []
   },
   "source": [
    "Ok, so if we set up our infrastructure from the last lab by running terraform apply, we can then begin figuring out how to set up our ec2 machine.\n",
    "\n",
    "We can do this by first sshing into our EC2 machine to make sure that each step works, and then we can setup terraform to automatically run each step."
   ]
  },
  {
   "cell_type": "markdown",
   "id": "89b8c99e-96f4-4f24-9d13-1cba04201221",
   "metadata": {},
   "source": [
    "So begin by sshing into the machine and confirm that our setup of psql works fine."
   ]
  },
  {
   "cell_type": "markdown",
   "id": "67b3aaa2-faab-43c0-89d5-969221b3e764",
   "metadata": {},
   "source": [
    "```bash\n",
    "sudo apt-get update\n",
    "sudo apt install postgresql-client-common\n",
    "sudo apt-get install postgresql-client\n",
    "```"
   ]
  },
  {
   "cell_type": "markdown",
   "id": "cdcf5d8b-558b-4840-8778-98c94555cad0",
   "metadata": {},
   "source": [
    "Now the next step we can do is work on getting docker installed."
   ]
  },
  {
   "cell_type": "markdown",
   "id": "50fe29c9-ece9-421c-8200-5c881f75c2e2",
   "metadata": {},
   "source": [
    "* `sudo apt-get install docker -y`"
   ]
  },
  {
   "cell_type": "markdown",
   "id": "512a619b-59a2-4039-9e12-ef08037b2070",
   "metadata": {},
   "source": [
    "This looked like it worked, but if we run, `docker --version` to confirm it's installed, we see that it isn't available.  \n",
    "\n",
    "So let's try a different way of installing docker."
   ]
  },
  {
   "cell_type": "markdown",
   "id": "8e778415-64fc-40c2-98dd-7e74b1dbe003",
   "metadata": {},
   "source": [
    "`sudo snap install docker`"
   ]
  },
  {
   "cell_type": "markdown",
   "id": "54136838-fea7-44ee-8e64-3de7ca138b20",
   "metadata": {},
   "source": [
    "And then you should be able to start the docker service with the following:"
   ]
  },
  {
   "cell_type": "markdown",
   "id": "851e91e8-5bf5-4487-a02c-f2c536e60270",
   "metadata": {},
   "source": [
    "`sudo systemctl start snap.docker.dockerd.service`"
   ]
  },
  {
   "cell_type": "markdown",
   "id": "95e2de84-2f9a-4cf4-9a97-f892d6827ce8",
   "metadata": {},
   "source": [
    "### Encoding our changes"
   ]
  },
  {
   "cell_type": "markdown",
   "id": "8ad9bde6-d235-4cb1-a99c-990e6a8e8c30",
   "metadata": {},
   "source": [
    "Now before we keep going, remember that we'll want to write down each of these steps as code.  But we **should not** do this directly in a `.tf` file.  We'll have too many steps -- and it will grow to be too long.\n",
    "\n",
    "Instead, copy over the steps to the `ec2-setup.sh` file.\n",
    "\n",
    "If you look in the file, you'll see that we already got you started."
   ]
  },
  {
   "cell_type": "markdown",
   "id": "7ab336d4-8164-4cdb-b233-3c2b1365b2c0",
   "metadata": {},
   "source": [
    "```bash\n",
    "sudo apt-get update\n",
    "sudo apt install postgresql-client-common\n",
    "sudo apt-get install postgresql-client\n",
    "```"
   ]
  },
  {
   "cell_type": "markdown",
   "id": "5f1a65f0-4344-496f-96cb-768126698557",
   "metadata": {},
   "source": [
    "So now it's your turn to copy over the steps of:\n",
    "\n",
    "* Downloading docker with snap\n",
    "* Starting the docker service with `systemctl`"
   ]
  },
  {
   "cell_type": "markdown",
   "id": "aa7afbf6-dc3e-402e-bff9-8e200d1c275d",
   "metadata": {},
   "source": [
    "### Keep Going"
   ]
  },
  {
   "cell_type": "markdown",
   "id": "9dfe4553-9995-4cdb-985f-68b594857c64",
   "metadata": {},
   "source": [
    "So let's keep up with this process of trying out a command in our ec2 instance, and then copying it over to the `ec2-setup.sh` file.\n",
    "\n",
    "So next, pull the backend image that you uploaded to dockerhub previously.  And run the container, passing through the environmental variables that connect it to the database.  Specify the correct platform if you see an error.\n",
    "\n",
    "Also, when running the container, give the container a name like `backend`.  You can do so with the `--name` argument.\n",
    "\n",
    "* You can confirm it works, if get back some json by running the following:\n",
    "    \n",
    "`curl localhost:5000/positions`"
   ]
  },
  {
   "cell_type": "markdown",
   "id": "f934a6f8-805c-49ab-a338-d0991b79042f",
   "metadata": {},
   "source": [
    "And if each of these steps work, copy them over one by one, into the `ec2-setup.sh` file.\n",
    "\n",
    "> Leave out each of the sudo's when copying it over.  If you don't, it may lead to a docker bug on your laptop.  Sounds painful."
   ]
  },
  {
   "cell_type": "markdown",
   "id": "2660d96a-ce80-4699-b4a5-57d2f3b2c6ea",
   "metadata": {},
   "source": [
    "### Working with our ec2-setup.sh file"
   ]
  },
  {
   "cell_type": "markdown",
   "id": "e5c9f966-cdc2-4a85-b329-0439f23c1e7c",
   "metadata": {},
   "source": [
    "* Trying it locally"
   ]
  },
  {
   "cell_type": "markdown",
   "id": "1275d0de-d920-448b-95b8-98da2dcb3aa8",
   "metadata": {},
   "source": [
    "Ok, so now let's see if these setup steps worked properly.  We can run the file on our laptop if we first comment out the lines that install psql and docker:\n",
    "\n",
    "```\n",
    "# sudo apt-get update\n",
    "# sudo apt install postgresql-client-common\n",
    "# sudo apt-get install postgresql-client\n",
    "# sudo snap install docker\n",
    "# sudo systemctl start snap.docker.dockerd.service\n",
    "```\n",
    "\n",
    "And then we can try it out by running the following on our laptop:\n",
    "\n",
    "```bash\n",
    "sh ec2-setup.sh\n",
    "```"
   ]
  },
  {
   "cell_type": "markdown",
   "id": "0e9faef9-f4b7-43f1-92df-ba120d90ffb2",
   "metadata": {},
   "source": [
    "And once again confirm that you can connect to the `localhost:5000/positions` and get back the json."
   ]
  },
  {
   "cell_type": "markdown",
   "id": "1642a83b-29f8-4453-84f1-907e0745cf78",
   "metadata": {},
   "source": [
    "```bash\n",
    "curl localhost:5000/positions\n",
    "```"
   ]
  },
  {
   "cell_type": "markdown",
   "id": "b8ff3f9d-2e92-4016-b128-1acb7b34f5e3",
   "metadata": {},
   "source": [
    "> You may have to run the container in the background as a daemon, to then also make the curl request.  Ask chatgpt how to do this if you don't know how."
   ]
  },
  {
   "cell_type": "markdown",
   "id": "4433c92a-3924-45b6-ad5a-16f5e26b5a26",
   "metadata": {},
   "source": [
    "* Fixing a bug"
   ]
  },
  {
   "cell_type": "markdown",
   "id": "71e0a643-b7ad-408a-878c-cc1d4333f3a8",
   "metadata": {},
   "source": [
    "Now one issue we may run into is, if we re-run the `ec2-setup.sh` file, we may see that we cannot re-boot up a container named `backend` (or anything else).  We cannot do this until we first remove the original `backend` container."
   ]
  },
  {
   "cell_type": "markdown",
   "id": "b151c999-33f1-4357-990c-d2f89aaeb644",
   "metadata": {},
   "source": [
    "So we should update our script.  And we can update our `ec2-setup.sh` script to stop any running backend container, before creating a new one.  Here's what we can add to do so:"
   ]
  },
  {
   "cell_type": "markdown",
   "id": "d6739379-d3d4-40bd-8260-604814087eae",
   "metadata": {},
   "source": [
    "```bash\n",
    "if docker ps -a | grep -wq backend; then\n",
    "    echo \"Stopping and removing backend...\"\n",
    "    docker stop backend\n",
    "    docker rm backend\n",
    "fi\n",
    "```"
   ]
  },
  {
   "cell_type": "markdown",
   "id": "9540a51d-df5d-4c18-a534-355081c59b51",
   "metadata": {},
   "source": [
    "Let's understand what the above is doing:"
   ]
  },
  {
   "cell_type": "markdown",
   "id": "eec9e683-7798-4dc1-abbd-40ee3f39951a",
   "metadata": {},
   "source": [
    "* `docker ps -a`: lists all running containers\n",
    "* | grep -wq backend: searches that output of the running containers for the word backend end\n",
    "* `if`, `fi`: This is our if statement in bash.  \n",
    "\n",
    "So here we are saying if we find a match for a container called backend, then stop the container and remove it."
   ]
  },
  {
   "cell_type": "markdown",
   "id": "3d769bbb-87f8-49a8-9235-9dc161ebeb90",
   "metadata": {},
   "source": [
    "Add the if block before the `docker run` line and then confirm you can run the newly updated `ec2-setup.sh`file."
   ]
  },
  {
   "cell_type": "markdown",
   "id": "7781fbff-3e6c-43dc-809d-31c2fee15fa9",
   "metadata": {},
   "source": [
    "* Refactoring with variables"
   ]
  },
  {
   "cell_type": "markdown",
   "id": "f6aed528-a91c-4a4a-9798-f2d571235114",
   "metadata": {},
   "source": [
    "Ok, now that we have gotten these steps working, let's refactor our script with some variables.  So declare the following variables:"
   ]
  },
  {
   "cell_type": "markdown",
   "id": "e73c6bb2-e299-4d01-9655-ee152f407ec8",
   "metadata": {},
   "source": [
    "```bash\n",
    "export BACKEND_CONTAINER=\"backend\"\n",
    "export BACKEND_IMAGE=\"\"\n",
    "export DB_USERNAME=\"\"\n",
    "export DB_PASSWORD=\"\"\n",
    "export DB_NAME=\"\"\n",
    "export DB_HOST=\"your_rds_instance_public_dns\"\n",
    "```"
   ]
  },
  {
   "cell_type": "markdown",
   "id": "5b8c7773-2897-4199-9b3d-11abe7249318",
   "metadata": {},
   "source": [
    "And then you can reference them later on with something like `${BACKEND_CONTAINER}`.  \n",
    "\n",
    "> Note: you can also reference them with just `$BACKEND_CONTAINER`, but doing it the way we recommended will make things easier later on."
   ]
  },
  {
   "cell_type": "markdown",
   "id": "6f303ca9-d3b1-4228-9bd5-98a1e2e7530b",
   "metadata": {},
   "source": [
    "Ok, so once you have declared and referenced each of the above variables, re-run:\n",
    "\n",
    "```bash\n",
    "sh ec2-setup.sh\n",
    "```\n",
    "\n",
    "And confirm that the script properly boots up the flask application."
   ]
  },
  {
   "cell_type": "markdown",
   "id": "28bbdf1a-d536-4cb1-b3f8-df2e2e8aa9a3",
   "metadata": {},
   "source": [
    "### Moving to EC2"
   ]
  },
  {
   "cell_type": "markdown",
   "id": "253ee347-e789-498c-b1a6-2ac2ccbe2118",
   "metadata": {},
   "source": [
    "Now that we have the `ec2-setup.sh` script working locally, the next step is to try it out on our ec2 instance.  To accomplish that, let's uncomment anything that we have initially commented out (ie. all the installation steps should be uncommented).  And also make sure that the `DB_HOST` properly points to the domain name of the rds instance.  You may also need to specify to run the docker container with the right platform, `platform=linux/amd64/v2`.\n",
    "\n",
    "So `scp` the file over to the ec2 instance (ask chatgpt if you forget how), and then run the file on the ec2 machine.\n",
    "\n",
    "> **Note:** We'll need to run the script with sudo, so you can do so with:\n",
    "\n",
    "```\n",
    "sudo sh ec2-setup.sh\n",
    "```"
   ]
  },
  {
   "cell_type": "markdown",
   "id": "b3a7a85d-ab9c-4a31-8570-49eace1bbe1d",
   "metadata": {},
   "source": [
    "Ok, so confirm that you can curl to `localhost:5000/positions`.  "
   ]
  },
  {
   "cell_type": "markdown",
   "id": "cd5f4ecf-5a0c-47af-a917-2d16c6ec0292",
   "metadata": {},
   "source": [
    "> If you cannot, read the error message, and confirm that your environmental variables are properly set up."
   ]
  },
  {
   "cell_type": "markdown",
   "id": "3356cec8-87c9-45b4-93c0-42e22fdc4586",
   "metadata": {},
   "source": [
    "### Automating with Templates"
   ]
  },
  {
   "cell_type": "markdown",
   "id": "2b4f15a0-bf5d-4b0a-b8f4-00af8447e627",
   "metadata": {},
   "source": [
    "> **Warning**: Potential setup issue with templates on mac: So if you run into an error, [please see the following](https://discuss.hashicorp.com/t/template-v2-2-0-does-not-have-a-package-available-mac-m1/35099/3)."
   ]
  },
  {
   "cell_type": "markdown",
   "id": "a941f562-4fb2-4a2b-aee9-cc318b66845f",
   "metadata": {},
   "source": [
    "Now if scping and running the `ec2-setup.sh` script worked ok, how can we use terraform to automatically get that file onto our ec2 machine?"
   ]
  },
  {
   "cell_type": "markdown",
   "id": "03a9823b-89bd-47c5-9152-2f80f5249b06",
   "metadata": {},
   "source": [
    "We can do so with a feature called templates."
   ]
  },
  {
   "cell_type": "markdown",
   "id": "79e138fb-508c-41d5-aebc-0bd24abee980",
   "metadata": {},
   "source": [
    "With templates we can copy over all of the contents of our `ec2-setup.sh` file, into our `ec2-setup.tpl` file, which you'll see inside of the `ec2-setup.tpl` file.\n",
    "\n",
    "```bash\n",
    "sudo apt-get update\n",
    "sudo apt install postgresql-client-common\n",
    "sudo apt-get install postgresql-client -y\n",
    "sudo snap install docker\n",
    "sudo systemctl start snap.docker.dockerd.service\n",
    "\n",
    "if sudo docker ps -a | grep -wq ${BACKEND_CONTAINER}; then\n",
    "    echo \"Stopping and removing ${BACKEND_CONTAINER}...\"\n",
    "    sudo docker stop ${BACKEND_CONTAINER}\n",
    "    sudo docker rm ${BACKEND_CONTAINER}\n",
    "fi\n",
    "\n",
    "sudo docker run -d -p 5000:5000 --name ${BACKEND_CONTAINER} -e DB_USERNAME=${DB_USERNAME} -e DB_PASSWORD=${DB_PASSWORD} -e DB_NAME=${DB_NAME} -e DB_HOST=${DB_HOST} --platform=linux/amd64/v2 ${BACKEND_IMAGE}\n",
    "```"
   ]
  },
  {
   "cell_type": "markdown",
   "id": "6f304f77-06c6-49b4-b7e1-9a644e97ad8c",
   "metadata": {},
   "source": [
    "> So notice we are back to preceding each docker command with `sudo`."
   ]
  },
  {
   "cell_type": "markdown",
   "id": "637487f8-223c-4dae-8bb4-73472f660a45",
   "metadata": {},
   "source": [
    "Then in the `web_app.tf` file, you'll add another resource that looks like the following:"
   ]
  },
  {
   "cell_type": "markdown",
   "id": "44a4d476-2708-4037-a43d-57dcccc4845d",
   "metadata": {},
   "source": [
    "```bash\n",
    "data \"template_file\" \"init_script\" {\n",
    "  template = file(\"${path.module}/ec2-setup.tpl\")\n",
    "    \n",
    "  vars = {\n",
    "    BACKEND_CONTAINER=\"\"\n",
    "    BACKEND_IMAGE=\"\"\n",
    "    DB_USERNAME=\"\"\n",
    "    DB_PASSWORD=\"\"\n",
    "    DB_NAME=\"\"\n",
    "    DB_HOST=\"\"\n",
    "  }\n",
    "}\n",
    "```"
   ]
  },
  {
   "cell_type": "markdown",
   "id": "d1339a87-c209-40a3-aff5-0442671c0b88",
   "metadata": {},
   "source": [
    "Add this to the `web_app.tf` file, update the variable name values from strings to the appropriate values. \n",
    "\n",
    "> For the `DB_HOST`, this should be calculated by getting the `endpoint` property from the database resource in terraform.  You can figure out how to do this with the terraform console if need be.  "
   ]
  },
  {
   "cell_type": "markdown",
   "id": "f9538452-ce41-4c2b-b667-54499183c9dc",
   "metadata": {},
   "source": [
    "Ok, so let's get a sense of how a template works.  So templates are a data element, and we define them by specifying:\n",
    "\n",
    "* The location of the template.  The `${path.module}` returns the path where the `terraform` folder is located on your computer.\n",
    "* The variables to pass through to the template.\n",
    "\n",
    "So instead of declaring the variables up top with `BACKEND_CONTAINER=\"backend\"` we just do so in our `.tf` file."
   ]
  },
  {
   "cell_type": "markdown",
   "id": "7b3e9f4b-d9c6-4a07-8157-c1522bff7a37",
   "metadata": {},
   "source": [
    "Now the template actually, takes the variables and the `.tpl` file and compiles this into text.  You can see this if you login to the console:\n",
    "\n",
    "`terraform console`\n",
    "\n",
    "And then reference the template.\n",
    "\n",
    "```bash\n",
    "data.template_file.init_script.rendered\n",
    "```\n",
    "\n",
    "So the above line specifies the `data.template_file` resource, and the name of our resource `init_script`, and then shows the compiled text with a call to `.rendered`."
   ]
  },
  {
   "cell_type": "markdown",
   "id": "c0279315-26b0-4a9a-9636-43f62889db5e",
   "metadata": {},
   "source": [
    "Ok, so we can use the template to spit out some text, using the `rendered` property.  And where should we place this text to make sure it is run in our ec2 machine?  In the `user_data` property.  \n",
    "\n",
    "So update your `aws_instance` resource to look like the following:\n",
    "\n",
    "```bash\n",
    "resource \"aws_instance\" \"backend_server\" {\n",
    "  ami           = \"ami-07d9b9ddc6cd8dd30\"\n",
    "  instance_type = \"t2.micro\"\n",
    "  key_name = \"example\"\n",
    "  # \n",
    "  depends_on = [aws_db_instance.postgres_db]\n",
    "  vpc_security_group_ids = [aws_security_group.web_app.id]\n",
    "  \n",
    "  user_data = data.template_file.init_script.rendered\n",
    "  \n",
    "  tags = {\n",
    "      Name = \"backend server\"\n",
    "  }\n",
    "}\n",
    "```"
   ]
  },
  {
   "cell_type": "markdown",
   "id": "002a6680-25fc-405b-88ab-d7e65a3005a6",
   "metadata": {},
   "source": [
    "Ok, so now let's reapply our terraform code, and see if it ran our template."
   ]
  },
  {
   "cell_type": "markdown",
   "id": "1e9112b1-5c99-45c4-8dfd-f36a9699d43a",
   "metadata": {},
   "source": [
    "> It will likely break."
   ]
  },
  {
   "cell_type": "markdown",
   "id": "75c36557-bd5e-4842-b1df-afb673a689a7",
   "metadata": {},
   "source": [
    "### Debugging"
   ]
  },
  {
   "cell_type": "markdown",
   "id": "9a2d4d8c-2b3f-4ccf-bee7-326981aeca6f",
   "metadata": {},
   "source": [
    "Let's ssh into the ec2 machine and see how far we got.  You can get a sense of where our script worked, and where it broke by checking the following:\n",
    "\n",
    "* Is there a container running: `sudo docker ps`\n",
    "* Did our image get pulled down: `sudo docker image ls`\n",
    "* Is docker even installed?: `sudo docker --version`\n"
   ]
  },
  {
   "cell_type": "markdown",
   "id": "fecf8654-3ff0-4037-b07e-8eccc472de23",
   "metadata": {},
   "source": [
    "And then remember that we can see the logs of what occurred with the following:"
   ]
  },
  {
   "cell_type": "markdown",
   "id": "c8296e43-5d13-4387-aa18-f97ab156cd5e",
   "metadata": {},
   "source": [
    "```bash\n",
    "cat /var/log/cloud-init-output.log\n",
    "cat /var/log/cloud-init.log\n",
    "```"
   ]
  },
  {
   "cell_type": "markdown",
   "id": "145ca5cc-ed2d-485e-8597-26b76357fa5e",
   "metadata": {},
   "source": [
    "What often occurs is that our script will proceed with the next step, before the previous one has finished. To prevent this from occurring, we can add some `while` blocks.  For example, let's update the start of our `ec2-setup.tpl` file to the following:"
   ]
  },
  {
   "cell_type": "markdown",
   "id": "70614eab-841b-4712-bbf6-9d9a0e71f19e",
   "metadata": {},
   "source": [
    "```bash\n",
    "sudo apt-get update\n",
    "sudo apt install postgresql-client-common\n",
    "sudo apt-get install postgresql-client -y\n",
    "sudo snap install docker\n",
    "sudo systemctl start snap.docker.dockerd.service\n",
    "\n",
    "while ! sudo docker ps; do\n",
    "    echo 'Waiting for docker to be ready'\n",
    "    sudo snap install docker\n",
    "    sudo systemctl start snap.docker.dockerd.service\n",
    "    sleep 5\n",
    "done\n",
    "```"
   ]
  },
  {
   "cell_type": "markdown",
   "id": "a63536a8-e374-420b-a32b-ca467137203f",
   "metadata": {},
   "source": [
    "So in the `while` block, we are saying, when we don't get a back a value from running `docker ps` (ie when we get an error from running `docker ps`), try to re-download and restart docker, and then wait a few seconds before checking again.\n",
    "\n",
    "This while block will ensure that we don't move onto the next steps, before docker is running.\n",
    "\n",
    "* Your turn\n",
    "\n",
    "Ok, so now let's add a few more while blocks to our `ec2-setup.tpl` file.\n",
    "\n",
    "1. Instead of the line `sudo docker pull ${BACKEND_IMAGE}`, change this so that the logic is:\n",
    "    * When we don't get a positive value from looking for our backend image, repull that image down and then sleep for 5 seconds\n",
    "    \n",
    "2. Instead of just running our container at the very end, wrap this in a while block that says: \n",
    "* if we don't see the container running, re-run the container."
   ]
  },
  {
   "cell_type": "markdown",
   "id": "c5f5063f-3f1c-4bfd-ac7c-782baa30fc52",
   "metadata": {},
   "source": [
    "To get a sense of if your code works, you can first try it out locally in your `ec2-setup.sh` file.  Then of course update the `ec2-setup.tpl` file.  And then re-apply the changes, and sh into your ec2 instance and then make the curl request to confirm that it properly returns the json."
   ]
  },
  {
   "cell_type": "markdown",
   "id": "5e2f4bfd-ce84-4af4-8bf8-8db9eb49e39a",
   "metadata": {},
   "source": [
    "* If you run into errors, follow the debugging tips that we listed above."
   ]
  },
  {
   "cell_type": "markdown",
   "id": "74e5f1a6-074a-48a0-aae3-767574fc31a8",
   "metadata": {},
   "source": [
    "### Summary"
   ]
  },
  {
   "cell_type": "markdown",
   "id": "0e884257-793a-4e9a-b7dd-1e6789a8d31f",
   "metadata": {},
   "source": [
    "Ok, so in this lesson, we learned about coding bash scripts, which we can test out locally.  And then we learned to translate these bash scripts into templates that automatically run when initializing our ec2 instance.\n",
    "\n",
    "Along the way, we learned about coding while loops in bash:\n",
    "\n",
    "```bash\n",
    "while ! sudo docker ps; do\n",
    "    echo 'Waiting for docker to be ready'\n",
    "    sudo snap install docker\n",
    "    sudo systemctl start snap.docker.dockerd.service\n",
    "    sleep 5\n",
    "done\n",
    "```\n",
    "\n",
    "And if blocks:\n",
    "\n",
    "```bash\n",
    "if sudo docker ps -a | grep -wq ${BACKEND_CONTAINER}; then\n",
    "    echo \"Stopping and removing ${BACKEND_CONTAINER}...\"\n",
    "    sudo docker stop ${BACKEND_CONTAINER}\n",
    "    sudo docker rm ${BACKEND_CONTAINER}\n",
    "fi\n",
    "```\n",
    "\n",
    "We also practiced debugging on our ec2 instance by inspecting the log files.\n",
    "\n",
    "```bash\n",
    "cat /var/log/cloud-init-output.log\n",
    "cat /var/log/cloud-init.log\n",
    "```"
   ]
  },
  {
   "cell_type": "markdown",
   "id": "d1f795aa-34cd-4a6a-91c0-c2c5c8b300d7",
   "metadata": {},
   "source": [
    "### Resources\n",
    "\n",
    "[Terraform working with Following](https://discuss.hashicorp.com/t/template-v2-2-0-does-not-have-a-package-available-mac-m1/35099/3)"
   ]
  },
  {
   "cell_type": "code",
   "execution_count": null,
   "id": "785541ab-364b-48f5-b1e2-20d86263d6bf",
   "metadata": {},
   "outputs": [],
   "source": []
  }
 ],
 "metadata": {
  "kernelspec": {
   "display_name": "Python 3 (ipykernel)",
   "language": "python",
   "name": "python3"
  },
  "language_info": {
   "codemirror_mode": {
    "name": "ipython",
    "version": 3
   },
   "file_extension": ".py",
   "mimetype": "text/x-python",
   "name": "python",
   "nbconvert_exporter": "python",
   "pygments_lexer": "ipython3",
   "version": "3.10.13"
  }
 },
 "nbformat": 4,
 "nbformat_minor": 5
}
